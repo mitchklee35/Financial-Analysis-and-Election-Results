{
 "cells": [
  {
   "cell_type": "code",
   "execution_count": 1,
   "metadata": {},
   "outputs": [],
   "source": [
    "import os\n",
    "import csv\n",
    "\n",
    "Main_file = os.path.join(\"..\",\"PyPoll\",\"election_data.csv\")"
   ]
  },
  {
   "cell_type": "code",
   "execution_count": 31,
   "metadata": {},
   "outputs": [
    {
     "ename": "SyntaxError",
     "evalue": "invalid syntax (<ipython-input-31-d3bf301c650c>, line 21)",
     "output_type": "error",
     "traceback": [
      "\u001b[1;36m  File \u001b[1;32m\"<ipython-input-31-d3bf301c650c>\"\u001b[1;36m, line \u001b[1;32m21\u001b[0m\n\u001b[1;33m    for Candidate_names, Total_votes in my\u001b[0m\n\u001b[1;37m                                          ^\u001b[0m\n\u001b[1;31mSyntaxError\u001b[0m\u001b[1;31m:\u001b[0m invalid syntax\n"
     ]
    }
   ],
   "source": [
    "with open(Main_file) as csvfile:\n",
    "    csv_reader = csv.reader(csvfile, delimiter=',')\n",
    "    \n",
    "    # Enable next row past titles\n",
    "    next(csv_reader)\n",
    "    VoterID = []\n",
    "    Candidate_names = []\n",
    "    Current_candidate= []\n",
    "    Percentage_votes = []\n",
    "    Winner = []\n",
    "    Candidate_votes = {}\n",
    "    \n",
    "    \n",
    "    for row in csv_reader:\n",
    "        VoterID.append(row[0])\n",
    "        Current_candidate = row[2]\n",
    "        \n",
    "        \n",
    "        if (Current_candidate) not in (Candidate_names):\n",
    "            Candidate_names.append(Current_candidate)\n",
    "        \n",
    "        "
   ]
  },
  {
   "cell_type": "code",
   "execution_count": 30,
   "metadata": {},
   "outputs": [
    {
     "name": "stdout",
     "output_type": "stream",
     "text": [
      "Election Results\n",
      "-------------------------------------------------------------\n",
      "Total Votes: 3521001\n",
      "-------------------------------------------------------------\n",
      "['Khan', 'Correy', 'Li', \"O'Tooley\"]\n"
     ]
    }
   ],
   "source": [
    "    # Print results\n",
    "    print(\"Election Results\")\n",
    "    print(\"-------------------------------------------------------------\")\n",
    "    print(\"Total Votes:\", len(VoterID))\n",
    "    print(\"-------------------------------------------------------------\")\n",
    "    print(Candidate_names)\n"
   ]
  },
  {
   "cell_type": "code",
   "execution_count": null,
   "metadata": {},
   "outputs": [],
   "source": []
  },
  {
   "cell_type": "code",
   "execution_count": null,
   "metadata": {},
   "outputs": [],
   "source": []
  },
  {
   "cell_type": "code",
   "execution_count": null,
   "metadata": {},
   "outputs": [],
   "source": []
  }
 ],
 "metadata": {
  "kernelspec": {
   "display_name": "Python 3",
   "language": "python",
   "name": "python3"
  },
  "language_info": {
   "codemirror_mode": {
    "name": "ipython",
    "version": 3
   },
   "file_extension": ".py",
   "mimetype": "text/x-python",
   "name": "python",
   "nbconvert_exporter": "python",
   "pygments_lexer": "ipython3",
   "version": "3.7.4"
  }
 },
 "nbformat": 4,
 "nbformat_minor": 2
}
